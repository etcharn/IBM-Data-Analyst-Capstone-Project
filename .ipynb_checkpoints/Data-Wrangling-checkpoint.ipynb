{
 "cells": [
  {
   "cell_type": "markdown",
   "id": "a1107993-4872-4458-ab89-5889c5bd6d96",
   "metadata": {},
   "source": [
    "import pandas module"
   ]
  },
  {
   "cell_type": "code",
   "execution_count": 1,
   "id": "1279e6b9-a48c-4a11-a151-3aa53b7bb154",
   "metadata": {},
   "outputs": [],
   "source": [
    "import pandas as pd"
   ]
  },
  {
   "cell_type": "markdown",
   "id": "ade00b64-3edc-4f47-98eb-8bb87df84175",
   "metadata": {},
   "source": [
    "Load the dataset inot a dataframe"
   ]
  },
  {
   "cell_type": "code",
   "execution_count": 4,
   "id": "efe6ba60-17b5-460b-a1b9-e17b243ebb66",
   "metadata": {},
   "outputs": [],
   "source": [
    "df = pd.read_csv(\"https://cf-courses-data.s3.us.cloud-object-storage.appdomain.cloud/IBM-DA0321EN-SkillsNetwork/LargeData/m1_survey_data.csv\")"
   ]
  },
  {
   "cell_type": "markdown",
   "id": "e9a97a22-314d-442a-bc95-3e67d353a512",
   "metadata": {},
   "source": [
    "Find the number of duplicate rows in the dataframe"
   ]
  },
  {
   "cell_type": "code",
   "execution_count": 5,
   "id": "bbe2e875-ee97-40f4-bf9f-116079efbdda",
   "metadata": {},
   "outputs": [
    {
     "data": {
      "text/plain": [
       "154"
      ]
     },
     "execution_count": 5,
     "metadata": {},
     "output_type": "execute_result"
    }
   ],
   "source": [
    "df.duplicated().sum()"
   ]
  },
  {
   "cell_type": "markdown",
   "id": "90e62af3-2c9e-4775-af56-c42f7ab1583c",
   "metadata": {},
   "source": [
    "Remove the duplicate rows from the dataframe"
   ]
  },
  {
   "cell_type": "code",
   "execution_count": 6,
   "id": "c4072039-24dc-49ef-8ef7-5531d79ebc92",
   "metadata": {},
   "outputs": [],
   "source": [
    "df_duplicateRowsRemoved = df.drop_duplicates()"
   ]
  },
  {
   "cell_type": "markdown",
   "id": "0ebe9720-784e-45a2-a8cc-996174cfb6a8",
   "metadata": {},
   "source": [
    "Confirm whether the duplicate rows were removed."
   ]
  },
  {
   "cell_type": "code",
   "execution_count": 8,
   "id": "23b0322f-be52-430f-a064-798f876b9177",
   "metadata": {},
   "outputs": [
    {
     "data": {
      "text/plain": [
       "0"
      ]
     },
     "execution_count": 8,
     "metadata": {},
     "output_type": "execute_result"
    }
   ],
   "source": [
    "df_duplicateRowsRemoved.duplicated().sum()"
   ]
  },
  {
   "cell_type": "markdown",
   "id": "fda150a6-aea9-4b89-a396-ed8d2823ba95",
   "metadata": {},
   "source": [
    "Find the missing values in all columns"
   ]
  },
  {
   "cell_type": "code",
   "execution_count": 10,
   "id": "c4fb7358-4bac-4116-b5c6-6aeb24232bf2",
   "metadata": {},
   "outputs": [
    {
     "data": {
      "text/plain": [
       "30967"
      ]
     },
     "execution_count": 10,
     "metadata": {},
     "output_type": "execute_result"
    }
   ],
   "source": [
    "df_duplicateRowsRemoved.isnull().sum().sum()"
   ]
  },
  {
   "cell_type": "markdown",
   "id": "3c326dfa-5ef5-48c1-88ac-d48b330b898c",
   "metadata": {},
   "source": [
    "Find out the number of duplicate rows in the column 'Respondent'"
   ]
  },
  {
   "cell_type": "code",
   "execution_count": 17,
   "id": "6a62df74-733e-4cdb-af65-fe2fef4287aa",
   "metadata": {},
   "outputs": [],
   "source": [
    "# rename df_duplicatRowsRemoved to df_noDupRow\n",
    "df_noDupRow = df_duplicateRowsRemoved"
   ]
  },
  {
   "cell_type": "code",
   "execution_count": 18,
   "id": "ea3a4c74-71d7-401d-99a9-4c4c33f141e2",
   "metadata": {},
   "outputs": [
    {
     "data": {
      "text/plain": [
       "154"
      ]
     },
     "execution_count": 18,
     "metadata": {},
     "output_type": "execute_result"
    }
   ],
   "source": [
    "df['Respondent'].duplicated().sum()"
   ]
  },
  {
   "cell_type": "markdown",
   "id": "bb1aae07-8881-4c9a-b139-97bc755f3212",
   "metadata": {},
   "source": [
    "Find the number of blank row under the column EdLevel"
   ]
  },
  {
   "cell_type": "code",
   "execution_count": 19,
   "id": "e4fcf3df-a600-408a-8aa0-f96e20db2f3d",
   "metadata": {},
   "outputs": [
    {
     "data": {
      "text/plain": [
       "116"
      ]
     },
     "execution_count": 19,
     "metadata": {},
     "output_type": "execute_result"
    }
   ],
   "source": [
    "df['EdLevel'].isnull().sum()"
   ]
  },
  {
   "cell_type": "markdown",
   "id": "f365f9c2-e2d8-4e57-ae33-976cb74e5d3f",
   "metadata": {},
   "source": [
    "Find the number of missing values under the column Country"
   ]
  },
  {
   "cell_type": "code",
   "execution_count": 20,
   "id": "13792e13-eea2-4411-9fd9-38e793c9e04f",
   "metadata": {},
   "outputs": [
    {
     "data": {
      "text/plain": [
       "0"
      ]
     },
     "execution_count": 20,
     "metadata": {},
     "output_type": "execute_result"
    }
   ],
   "source": [
    "df['Country'].isnull().sum()"
   ]
  },
  {
   "cell_type": "markdown",
   "id": "a7a10c2f-bf38-499c-8c12-997485e6f891",
   "metadata": {},
   "source": [
    "What is the majority category under the column Employment?"
   ]
  },
  {
   "cell_type": "code",
   "execution_count": 21,
   "id": "e8b6bd6f-c08d-4aeb-8645-86d0f1d3e4c0",
   "metadata": {},
   "outputs": [
    {
     "data": {
      "text/plain": [
       "'Employed full-time'"
      ]
     },
     "execution_count": 21,
     "metadata": {},
     "output_type": "execute_result"
    }
   ],
   "source": [
    "df['Employment'].value_counts().idxmax()"
   ]
  },
  {
   "cell_type": "markdown",
   "id": "52cc51b1-5b1a-4ae5-a93e-4299ebc6f073",
   "metadata": {},
   "source": [
    "Under the column \" UndergradMajor\", which category has the minimum number of rows?"
   ]
  },
  {
   "cell_type": "code",
   "execution_count": 23,
   "id": "68bebaf2-e3c9-49b1-9ac1-f0fc429631b7",
   "metadata": {},
   "outputs": [
    {
     "data": {
      "text/plain": [
       "'A health science (ex. nursing, pharmacy, radiology)'"
      ]
     },
     "execution_count": 23,
     "metadata": {},
     "output_type": "execute_result"
    }
   ],
   "source": [
    "df['UndergradMajor'].value_counts().idxmin()"
   ]
  },
  {
   "cell_type": "markdown",
   "id": "96594d96-d6df-4598-a488-8a93cc48efce",
   "metadata": {},
   "source": [
    "How many unique values are there in the CompFreq column?"
   ]
  },
  {
   "cell_type": "code",
   "execution_count": 25,
   "id": "c10872d3-1fe0-4544-9f5b-22328360f7f3",
   "metadata": {},
   "outputs": [
    {
     "data": {
      "text/plain": [
       "array(['Yearly', 'Monthly', 'Weekly', nan], dtype=object)"
      ]
     },
     "execution_count": 25,
     "metadata": {},
     "output_type": "execute_result"
    }
   ],
   "source": [
    "df['CompFreq'].unique()"
   ]
  },
  {
   "cell_type": "markdown",
   "id": "9dfc5f8c-5ec7-4afb-a99f-bf71673406f6",
   "metadata": {},
   "source": [
    "After removing the duplicate rows, how many respondents are being paid yearly?"
   ]
  },
  {
   "cell_type": "code",
   "execution_count": 27,
   "id": "4b3ee4ea-2789-4e50-b429-41a793e8d018",
   "metadata": {},
   "outputs": [
    {
     "data": {
      "text/plain": [
       "Yearly     6163\n",
       "Monthly    4846\n",
       "Weekly      337\n",
       "Name: CompFreq, dtype: int64"
      ]
     },
     "execution_count": 27,
     "metadata": {},
     "output_type": "execute_result"
    }
   ],
   "source": [
    "df['CompFreq'].value_counts()"
   ]
  },
  {
   "cell_type": "markdown",
   "id": "d7051f34-f797-40dd-beca-41997e50eacc",
   "metadata": {},
   "source": [
    "Alternative method"
   ]
  },
  {
   "cell_type": "code",
   "execution_count": 32,
   "id": "44bdc35a-a71e-4cad-bc08-3705b5e97915",
   "metadata": {},
   "outputs": [
    {
     "data": {
      "text/plain": [
       "6163"
      ]
     },
     "execution_count": 32,
     "metadata": {},
     "output_type": "execute_result"
    }
   ],
   "source": [
    "df['CompFreq'].value_counts()['Yearly']"
   ]
  },
  {
   "cell_type": "markdown",
   "id": "3c9c83a3-6e79-451c-9a31-68ff0e7900b7",
   "metadata": {},
   "source": [
    "Another alternative method"
   ]
  },
  {
   "cell_type": "code",
   "execution_count": 34,
   "id": "4099fac3-843d-4cef-9d5d-2107da9266ba",
   "metadata": {},
   "outputs": [
    {
     "data": {
      "text/plain": [
       "6163"
      ]
     },
     "execution_count": 34,
     "metadata": {},
     "output_type": "execute_result"
    }
   ],
   "source": [
    "df[df['CompFreq'] == 'Yearly'].shape[0]"
   ]
  },
  {
   "cell_type": "code",
   "execution_count": null,
   "id": "c36d3fa6-f7d8-45a4-98e5-2c37a0555046",
   "metadata": {},
   "outputs": [],
   "source": []
  }
 ],
 "metadata": {
  "kernelspec": {
   "display_name": "Python 3 (ipykernel)",
   "language": "python",
   "name": "python3"
  },
  "language_info": {
   "codemirror_mode": {
    "name": "ipython",
    "version": 3
   },
   "file_extension": ".py",
   "mimetype": "text/x-python",
   "name": "python",
   "nbconvert_exporter": "python",
   "pygments_lexer": "ipython3",
   "version": "3.9.12"
  }
 },
 "nbformat": 4,
 "nbformat_minor": 5
}
